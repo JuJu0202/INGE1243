{
 "cells": [
  {
   "cell_type": "markdown",
   "id": "efdb4599",
   "metadata": {},
   "source": [
    "# Drag force\n",
    "\n",
    "The biologist J. B. S. Haldane wrote (Haldane, J. B. (**1926**). On being the right size. Harper’s magazine, 152, 424-427.), \n",
    "\n",
    "To the mouse and any smaller animal gravity presents practically no dangers. You can drop a mouse down a thousand-yard mine shaft; and, on arriving at the bottom, it gets a slight shock and walks away. A rat is killed, a man is broken, a horse splashes. For the resistance presented to movement by the air is proportional to the surface of the moving object. Divide an animal's length, breadth, and height each by ten; its weight is reduced to a thousandth, but its surface only to a hundredth. So the resistance to falling in the case of the small animal is relatively ten times greater than the driving force."
   ]
  },
  {
   "cell_type": "markdown",
   "id": "da082490",
   "metadata": {},
   "source": [
    "# Exercise 1\n",
    "\n",
    "To maintain a constant speed, the force provided by a car’s engine must equal the drag force plus the force of friction of the road (the rolling resistance). \n",
    "\n",
    "What are the **orders of magnitude** of drag forces at 70 km/h and 100 km/h for:\n",
    "\n",
    "1. a Toyota Camry? (Drag area is 0.7 m²)\n",
    "2. a Hummer H2? (Drag area is 2.44 m²) \n",
    "\n",
    "Assume all values are accurate to three significant digits."
   ]
  },
  {
   "cell_type": "markdown",
   "id": "db45ee80",
   "metadata": {},
   "source": [
    "# Exercise 2\n",
    "\n",
    "By what factor does the drag force on a car increase as it goes from 65 to 110 km/h?"
   ]
  },
  {
   "cell_type": "markdown",
   "id": "366639e2",
   "metadata": {},
   "source": [
    "# Exercise 3\n",
    "\n",
    "The terminal velocity of a person falling in air depends upon the weight and the area of the person facing the fluid. Find the terminal velocity (in meters per second and kilometers per hour) of an 80.0-kg skydiver falling in a headfirst position with a surface area of 0.140 m²."
   ]
  },
  {
   "cell_type": "markdown",
   "id": "de095ce9",
   "metadata": {},
   "source": [
    "# Exercise 4\n",
    "\n",
    "1. Write down (do not solve) the differential equation we need to solve to obtain the time dependence of the instantaneous velocity of an object falling vertically when considering air friction in an arbitrary fluid (air, water, honey, ...). \n",
    "    Here are the initial conditions you can consider :\n",
    "\n",
    "    $$v(t_{0})=0$$\n",
    "\n",
    "2. Make **qualitatively** a graph of this time dependency \n",
    "\n",
    "3. For your information (**only**) the analytical solution is :\n",
    "\n",
    "$$v(t)=v_{0}+V_{T}tanh(\\frac{g}{V_{T}}t)$$\n",
    "\n",
    "where $tanh$ is the hyperbolic tangent, $g$ is the free fall acceleration on Earth and $V_{T}$ is called the **terminal velocity**. Indeed, the name is appropriate since:\n",
    "\n",
    "$$\\lim_{ t\\to \\infty} v(t)=V_{T}=\\sqrt{\\frac{2mg}{\\rho Ac_{d}}}$$\n",
    "\n",
    "Based on the analysical formula, what is the value of the slope of this graph at the origin ($t$ close to zero) ? (hint : use linear approximation of $tanh(x)$). Does this make sense ?"
   ]
  },
  {
   "cell_type": "markdown",
   "id": "45b60522",
   "metadata": {},
   "source": [
    "# Energy"
   ]
  },
  {
   "cell_type": "markdown",
   "id": "ed89c24d",
   "metadata": {},
   "source": [
    "# Exercise 5\n",
    "\n",
    "At the bowling alley, the ball-feeder mechanism must exert a force to push the bowling balls up a 1.0-m long ramp.The ramp leads the balls to a chute 0.5 m above the base of the ramp. How much force must be exerted on a 5.0-kg bowling ball?\n",
    "\n",
    "<img title=\"a title\" alt=\"Alt text\" src=\"../Figures/Exercises 5/bowling.jpg\" width=\"500\">"
   ]
  },
  {
   "cell_type": "markdown",
   "id": "8500eb05",
   "metadata": {},
   "source": [
    "# Exercise 6\n",
    "\n",
    "1. How much work is done when you push a crate horizontally with 100 N across a 10-m factory floor?\n",
    "2. If the force of friction on the crate is a steady 70 N, show that the KE gained by the crate is 300 J.\n",
    "3. What becomes of the “missing energy?”"
   ]
  },
  {
   "cell_type": "markdown",
   "id": "7f91a023",
   "metadata": {},
   "source": [
    "# Exercise 7\n",
    "\n",
    "A cart on an air track is moving at 0.5 m/s when the air is suddenly turned off. The cart comes to rest after traveling 1 m. The experiment is repeated, but now the cart is moving at 1 m/s when the air is turned off. How far does the cart travel before coming to rest?"
   ]
  },
  {
   "cell_type": "markdown",
   "id": "bf932237",
   "metadata": {},
   "source": [
    "# Exercise 8\n",
    "\n",
    "This is a typical driver’s license question: A car moving at 50 km/h skids 15 m with locked brakes. How far will the car skid with locked brakes at 150 km/h?\n",
    "\n",
    "Answer : "
   ]
  },
  {
   "cell_type": "markdown",
   "id": "262af9e3",
   "metadata": {},
   "source": [
    "# Exercise 9\n",
    "\n",
    "Suppose you drop a 1-kg rock from a height of 5 m above the ground. When it hits, how much force does the rock exert on the ground?\n",
    "1. 0.2N\n",
    "2. 5N\n",
    "3. 50 N\n",
    "4. 100N\n",
    "5. impossible to determine"
   ]
  },
  {
   "cell_type": "markdown",
   "id": "b1719f89",
   "metadata": {},
   "source": [
    "# Exercise 10\n",
    "\n",
    "A stone is launched upward into the air. In addition to the force of gravity, the stone is subject to a frictional force due to air resistance. The time the stone takes to reach the top of its flight path is\n",
    "\n",
    "1. larger than\n",
    "2. equal to\n",
    "3. smaller than\n",
    "\n",
    "the time it takes to return from the top to its original position."
   ]
  },
  {
   "cell_type": "markdown",
   "id": "613e6631",
   "metadata": {},
   "source": [
    "# Exercise 11\n",
    "\n",
    "Professional tennis players tend to “follow through” when they hit the ball; this means that they continue to swing the racquet in the direction of the ball for as long as possible. Why is this effective at making the ball move faster?"
   ]
  },
  {
   "cell_type": "markdown",
   "id": "f1a19739",
   "metadata": {},
   "source": [
    "# Exercise 12\n",
    "\n",
    "A bob attached by a string makes a simple pendulum that swings to and fro. \n",
    "\n",
    "1. Why does the tension force in the string not do work on the pendulum?\n",
    "2. Why does the force due to gravity on the pendulum at nearly every point do work on the pendulum? \n",
    "3. What is the single position of the pendulum where “no work by gravity” occurs?\n",
    "\n",
    "<img title=\"a title\" alt=\"Alt text\" src=\"../Figures/Exercises 5/pendulum.jpg\" width=\"200\">"
   ]
  },
  {
   "cell_type": "markdown",
   "id": "69c50fb5",
   "metadata": {},
   "source": [
    "# Exercise 13\n",
    "\n",
    "1. What is the final speed of the roller coaster shown in Figure 7.8 if it starts from rest at the top of the 20.0 m hill and work done by frictional forces is negligible? \n",
    "2. What is its final speed (again assuming negligible friction) if its initial speed is 5.00 m/s?\n",
    "\n",
    "<img title=\"a title\" alt=\"Alt text\" src=\"../Figures/Exercises 5/rollercoaster.jpg\" width=\"600\">"
   ]
  },
  {
   "cell_type": "markdown",
   "id": "83579d71",
   "metadata": {},
   "source": [
    "# Exercise 14\n",
    "\n",
    "A ball of mass $m$ is dropped from a height of $h$ meters (we neglect drag). On each rebound, energy is dissipated. As a consequence, it bounces 3/4 as high as its previous height. \n",
    "\n",
    "1. What is the amount of energy dissipated at the first rebound ? \n",
    "2. What is the distance the ball traveled before coming to rest ?\n",
    "3. What is the total energy dissipated after coming to rest ? "
   ]
  },
  {
   "cell_type": "code",
   "execution_count": null,
   "id": "52cb31bd",
   "metadata": {},
   "outputs": [],
   "source": []
  }
 ],
 "metadata": {
  "kernelspec": {
   "display_name": "Python 3 (ipykernel)",
   "language": "python",
   "name": "python3"
  },
  "language_info": {
   "codemirror_mode": {
    "name": "ipython",
    "version": 3
   },
   "file_extension": ".py",
   "mimetype": "text/x-python",
   "name": "python",
   "nbconvert_exporter": "python",
   "pygments_lexer": "ipython3",
   "version": "3.9.7"
  }
 },
 "nbformat": 4,
 "nbformat_minor": 5
}
