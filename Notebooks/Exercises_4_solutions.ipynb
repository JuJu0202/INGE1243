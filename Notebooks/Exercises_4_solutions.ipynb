{
 "cells": [
  {
   "cell_type": "markdown",
   "id": "9c73b9ff",
   "metadata": {},
   "source": [
    "# Exercise 1\n",
    "\n",
    "1. https://en.wikipedia.org/wiki/Parallelepiped#Volume\n",
    "2. $V = 9$"
   ]
  },
  {
   "cell_type": "markdown",
   "id": "1e00f16f",
   "metadata": {},
   "source": [
    "# Exercise 2\n",
    "\n",
    "1. $A=\\sqrt{3}a^{2}$\n",
    "2. $A=\\frac{\\sqrt{2}}{12}a^{3}$"
   ]
  },
  {
   "cell_type": "markdown",
   "id": "7b288218",
   "metadata": {},
   "source": [
    "# Exercise 3\n",
    "\n",
    "$R_{x}=-100\\;N$, $R_{y}=80\\;N$, $|\\vec{R}|=128\\;N$, $\\theta=141°$"
   ]
  },
  {
   "cell_type": "markdown",
   "id": "6c6a140c",
   "metadata": {},
   "source": [
    "# Exercise 4\n",
    "\n",
    "(4.7 Further Applications of Newton’s Laws of Motion: ex 42)\n",
    "\n",
    "$T_{1}$ = 736 N and $T_{2}$ = 194 N "
   ]
  },
  {
   "cell_type": "markdown",
   "id": "d01586f2",
   "metadata": {},
   "source": [
    "# Exercise 5\n",
    "\n",
    "1. 2\n",
    "2. E\n",
    "3. A\n",
    "4. D"
   ]
  },
  {
   "cell_type": "markdown",
   "id": "780febb5",
   "metadata": {},
   "source": [
    "# Exercise 6\n",
    "\n",
    "Here is a \"free-body diagram\" of the situation (not at scale):\n",
    "\n",
    "<img title=\"a title\" alt=\"Alt text\" src=\"../Figures/Exercises 4/step_solution.jpg\" width=\"500\">\n",
    "\n",
    "The disk touches the floor at two locations (red and blue points). \n",
    "\n",
    "- The green vector represents the action of gravity\n",
    "- The yellow vector represents the \"pulling\" force\n",
    "- The red vector is the reaction force at the corner of the step\n",
    "- The blue vector represent the reaction force of the floor\n",
    "\n",
    "To overcome the step, the blue vector has to be equal to zero (no more touching).\n",
    "\n",
    "The sum of the $x$-components:\n",
    "\n",
    "$$|\\vec{f}_{yellow}|-|\\vec{f}_{red}|sin(\\phi)=0$$\n",
    "\n",
    "The sum of the $y$-components:\n",
    "\n",
    "$$-|\\vec{f}_{green}|+|\\vec{f}_{red}|cos(\\phi)=0$$\n",
    "\n",
    "where,\n",
    "\n",
    "$$cos(\\phi)=\\frac{R-h}{R}$$\n",
    "\n",
    "with $R$, the disk radius and $h$, the height of the step.\n",
    "\n",
    "Solving the equations, we have:\n",
    "\n",
    "$$|\\vec{f}_{red}|=\\frac{200}{0.8}=250$$\n",
    "\n",
    "$$|\\vec{f}_{yellow}|=250sin(Arccos(0.8))\\approx 150$$\n",
    "\n",
    "The minimal force has a magnitude of approximately 150 N."
   ]
  },
  {
   "cell_type": "markdown",
   "id": "9e9a04ca",
   "metadata": {},
   "source": [
    "# Exercise 7\n",
    "\n",
    "$\\vec{\\tau}_{1}=160\\textbf{e}_{z}$, $\\vec{\\tau}_{2}=10\\textbf{e}_{z}$, $\\vec{\\tau}_{3}\\approx120\\textbf{e}_{z}$, $\\vec{\\tau}_{4}=-60\\textbf{e}_{z}$ and $\\vec{\\tau}_{net}\\approx-230\\textbf{e}_{z}$"
   ]
  },
  {
   "cell_type": "markdown",
   "id": "704eefd7",
   "metadata": {},
   "source": [
    "# Exercise 8\n",
    "\n",
    "For $0\\le x<x_{0}$, $v(x)=v_{0}$. For $x_{0}\\le x<x_{0}+L$, $v(x)=v_{0}-\\frac{k}{m}(x-x_{0})$. For $x_{0}\\ge x_{0}+L$, whenever $v_{0}>\\frac{kL}{m}$, $v(x)=v_{0}-\\frac{k}{m}L$"
   ]
  },
  {
   "cell_type": "markdown",
   "id": "3a7b01b1",
   "metadata": {},
   "source": [
    "# Exercise 9\n",
    "\n",
    "$$\\vec{v}(t)=\\frac{d\\vec{r(t)}}{dt}=\\frac{dr(t)}{dt}\\;\\textbf{e}_{r}+r(t)\\frac{d\\theta(t)}{dt}\\;\\textbf{e}_{\\theta}$$\n",
    "\n",
    "$$\\vec{a}(t)=\\frac{d\\vec{v(t)}}{dt}=(\\frac{d^{2}r(t)}{dt}-r(t)(\\frac{d\\theta(t)}{dt})^{2})\\;\\textbf{e}_{r}+(2\\frac{dr(t)}{dt}\\frac{d\\theta(t)}{dt}+r(t)\\frac{d^{2}\\omega(t)}{dt})\\;\\textbf{e}_{\\theta}$$"
   ]
  },
  {
   "cell_type": "markdown",
   "id": "6e2557b3",
   "metadata": {},
   "source": [
    "# Exercise 10\n",
    "\n",
    "1. 6.60 rad\n",
    "2. The spoke $OP$ is at an angle of $+18°$ with the $+x$-axis."
   ]
  },
  {
   "cell_type": "markdown",
   "id": "bdadb8d5",
   "metadata": {},
   "source": [
    "# Exercise 11\n",
    "\n",
    "The path number 2."
   ]
  },
  {
   "cell_type": "markdown",
   "id": "946d3658",
   "metadata": {},
   "source": [
    "# Exercise 12\n",
    "\n",
    "$v=14.8 \\;m/s$"
   ]
  },
  {
   "cell_type": "markdown",
   "id": "5aacb2cf",
   "metadata": {},
   "source": [
    "# Exercise 13\n",
    "\n",
    "1. 0.0027248 m/s²\n",
    "2. 0.0027029 m/s²"
   ]
  },
  {
   "cell_type": "markdown",
   "id": "ddd16672",
   "metadata": {},
   "source": [
    "# Exercise 14\n",
    "\n",
    "1. Newton's second law:\n",
    "\n",
    "$$mg-T=ma_{CM}$$\n",
    "\n",
    "$$|\\vec{\\tau}|=I_{disk}|\\vec{\\alpha}|\\;\\leftrightarrow\\;TR=I_{disk}|\\vec{\\alpha}|$$\n",
    "\n",
    "We know that:\n",
    "\n",
    "$$a_{CM}=R\\frac{d^{2}\\theta}{dt^{2}}=R|\\vec{\\alpha}|$$,\n",
    "\n",
    "and \n",
    "\n",
    "$$I_{disk}=\\frac{1}{2}mR^{2}$$\n",
    "\n",
    "so :\n",
    "\n",
    "$$T=\\frac{1}{2}ma_{CM}$$\n",
    "\n",
    "Substituting in the first equation, we have:\n",
    "\n",
    "$$a_{CM}=\\frac{2}{3}g$$\n",
    "\n",
    "2. $\\Delta x=13.06$ m\n",
    "\n",
    "Note: It is probably not the kind of feeling you had when playing with an actual Yo-Yo: In 2 seconds, it does not cover that much of a distance. You are right, but a real world Yo-Yo consists in a little more complex object: a cylinder (of radius $R_{in}$) is clamped between two other cylinder (of radius $R_{out}$). Considering $R_{in}/R_{out}=1/3$, the acceleration is actually:\n",
    "\n",
    "$$a_{CM}=\\frac{2}{11}g$$\n",
    "\n",
    "(https://www.youtube.com/watch?v=chC7xVDKl4Q)"
   ]
  }
 ],
 "metadata": {
  "kernelspec": {
   "display_name": "Python 3 (ipykernel)",
   "language": "python",
   "name": "python3"
  },
  "language_info": {
   "codemirror_mode": {
    "name": "ipython",
    "version": 3
   },
   "file_extension": ".py",
   "mimetype": "text/x-python",
   "name": "python",
   "nbconvert_exporter": "python",
   "pygments_lexer": "ipython3",
   "version": "3.9.7"
  }
 },
 "nbformat": 4,
 "nbformat_minor": 5
}
