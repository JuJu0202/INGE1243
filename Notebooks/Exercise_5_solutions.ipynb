{
 "cells": [
  {
   "cell_type": "markdown",
   "id": "bfa3f1c8",
   "metadata": {},
   "source": [
    "# Exercise 1\n",
    "\n",
    "1. 44.8 N, 91.5 N\n",
    "2. 357 N, 729 N"
   ]
  },
  {
   "cell_type": "markdown",
   "id": "6aaab424",
   "metadata": {},
   "source": [
    "# Exercise 2\n",
    "\n",
    "2.86 $[-]$"
   ]
  },
  {
   "cell_type": "markdown",
   "id": "20940a52",
   "metadata": {},
   "source": [
    "# Exercise 3\n",
    "\n",
    "4.0×102 km/h"
   ]
  },
  {
   "cell_type": "markdown",
   "id": "a717f75f",
   "metadata": {},
   "source": [
    "# Exercise 4\n",
    "\n",
    "1. $$m\\frac{dv(t)}{dt}=mg-\\frac{1}{2}\\rho A c_{d}\\left(v(t)\\right)^{2}$$\n",
    "\n",
    "2. <img title=\"a title\" alt=\"Alt text\" src=\"../Figures/Exercises 5/terminalvelocity.jpg\" width=\"500\">\n",
    "\n",
    "3. As $tanh(x)\\approx x$ (for $x$ close to zero), we have : \n",
    "    $$v(t)=V_{T}tanh(\\frac{g}{V_{T}}t)\\approx V_{T}\\frac{g}{V_{T}}t = gt$$\n",
    "   The slope is thus $g$. This completelly make sense because at low speed, the drag force is approximativelly zero an the acceleration is simply $g$ so $v(t)=gt$"
   ]
  },
  {
   "cell_type": "markdown",
   "id": "7aa85f58",
   "metadata": {},
   "source": [
    "# Exercise 5\n",
    "\n",
    "The force exerted by the mechanism times the distance of 1.0 m over which the force is exerted must equal the change in the potential energy of the ball $Fd=mg\\Delta h=5*9.8*0.5\\leftrightarrow F=24.5 \\;N$"
   ]
  },
  {
   "cell_type": "markdown",
   "id": "90543496",
   "metadata": {},
   "source": [
    "# Exercise 6\n",
    "\n",
    "1. 1000 $[J]$\n",
    "2. $\\Delta KE=(100-70)\\times 10=300\\; [J]$\n",
    "3. 700 $[J]$ are dissipated in heating both the factory floor and the crate's bottom."
   ]
  },
  {
   "cell_type": "markdown",
   "id": "578c3ceb",
   "metadata": {},
   "source": [
    "# Exercise 7\n",
    "\n",
    "4 m"
   ]
  },
  {
   "cell_type": "markdown",
   "id": "7080d94a",
   "metadata": {},
   "source": [
    "# Exercise 8\n",
    "\n",
    "135 m"
   ]
  },
  {
   "cell_type": "markdown",
   "id": "6bcaa054",
   "metadata": {},
   "source": [
    "# Exercise 9\n",
    "\n",
    "Answer 5. To answer this question, one needs to know how much the ground compresses before the rock comes to a stop."
   ]
  },
  {
   "cell_type": "markdown",
   "id": "d1778feb",
   "metadata": {},
   "source": [
    "# Exercise 10\n",
    "\n",
    "If there were no friction, the sum of potential and kinetic energy would have to be constant. So as the ball rose, its potential energy would increase and its kinetic energy decrease. On the way down, the potential energy would decrease again such that, at each point on the path, the ball would have the same kinetic energy as on the way up. Because there is friction, however, part of the total energy is dissipated. As a result, the ball has less kinetic energy at each point on the way down. This means it takes longer to go down than to go up."
   ]
  },
  {
   "cell_type": "markdown",
   "id": "95cd4c7a",
   "metadata": {},
   "source": [
    "# Exercise 11\n",
    "\n",
    "Because of the **work-energy theorem**. The change in kinetic energy $(\\Delta KE)$ equals **work** that is to say a force applyied over a distance. The stronger the force, the longer the distance, the more kinetic energy will be gained. The goal being to have a sufficiently high velocity. "
   ]
  },
  {
   "cell_type": "markdown",
   "id": "8488e5ce",
   "metadata": {},
   "source": [
    "# Exercise 12\n",
    "\n",
    "Consider the following figure :\n",
    "\n",
    "<img title=\"a title\" alt=\"Alt text\" src=\"../Figures/Exercises 5/pendulum_solution.jpg\" width=\"200\">\n",
    "\n",
    "The red dashed line is the **instantaneous** line on which the bob will displace. It changes at all time, yet :\n",
    "\n",
    "1. The tension is always orthogonal to the displacement line so no work is realized by this force. \n",
    "2. There is always a component of the gravitational force parallelel to this line of displacement... \n",
    "3. Except when the bob's rope is parallel to the gravitational force. "
   ]
  },
  {
   "cell_type": "markdown",
   "id": "33541efd",
   "metadata": {},
   "source": [
    "# Exercise 13\n",
    "\n",
    "1. 19.8 $[m/s]$\n",
    "2. 20.4 $[m/s]$"
   ]
  },
  {
   "cell_type": "markdown",
   "id": "9f8e6bf3",
   "metadata": {},
   "source": [
    "# Exercise 14\n",
    "\n",
    "1. $E_{rebound}=mgh(1-\\frac{3}{4})$\n",
    "2. $(\\frac{3}{4})^{0}h (\\downarrow) +(\\frac{3}{4})^{1}h(\\uparrow)+(\\frac{3}{4})^{1}h(\\downarrow)+(\\frac{3}{4})^{2}h(\\uparrow)+(\\frac{3}{4})^{2}h(\\downarrow)+ ...$\n",
    "\n",
    "These are two geometric series ! Thus :\n",
    "    1. The total distance for the downward motion is $h\\times\\frac{1}{1-\\frac{3}{4}}$\n",
    "    2. The total distance for the downward motion is $h\\times\\frac{\\frac{3}{4}}{1-\\frac{3}{4}}$\n",
    "    \n",
    "For a distance $h$ of 8 meters for example, the formula would give 32m for downward motion and 24m for upward (a difference of 8 meters between the two contributions): 56 m for the total distance. \n",
    "3. $mgh$ (you can compute it as an infinite serie but it is the total energy available and, at rest, there is no other form of energy)"
   ]
  },
  {
   "cell_type": "code",
   "execution_count": null,
   "id": "19d4d02e",
   "metadata": {},
   "outputs": [],
   "source": []
  }
 ],
 "metadata": {
  "kernelspec": {
   "display_name": "Python 3 (ipykernel)",
   "language": "python",
   "name": "python3"
  },
  "language_info": {
   "codemirror_mode": {
    "name": "ipython",
    "version": 3
   },
   "file_extension": ".py",
   "mimetype": "text/x-python",
   "name": "python",
   "nbconvert_exporter": "python",
   "pygments_lexer": "ipython3",
   "version": "3.9.7"
  }
 },
 "nbformat": 4,
 "nbformat_minor": 5
}
