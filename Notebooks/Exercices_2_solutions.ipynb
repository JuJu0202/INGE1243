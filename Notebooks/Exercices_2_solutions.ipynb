{
 "cells": [
  {
   "cell_type": "markdown",
   "id": "808b322b",
   "metadata": {},
   "source": [
    "# Exercice 1\n",
    "\n",
    "The graph number 2."
   ]
  },
  {
   "cell_type": "markdown",
   "id": "a7c62bf9",
   "metadata": {},
   "source": [
    "# Exercice 2\n",
    "\n",
    "It takes the runner half an hour to reach the finish line. The birds flies at 30 km/h. The bird travels 15 km. "
   ]
  },
  {
   "cell_type": "markdown",
   "id": "48b4f963",
   "metadata": {},
   "source": [
    "# Exercice 3\n",
    "\n",
    "Exactly 9.8 [$m/s^{2}$]. The acceleration of gravity is a constant, independent of initial velocity."
   ]
  },
  {
   "cell_type": "markdown",
   "id": "129d0307",
   "metadata": {},
   "source": [
    "# Exercice 4\n",
    "\n",
    "Answer 3. The slope of curve B is parallel to line A at some point $t < t_{B}$"
   ]
  },
  {
   "cell_type": "markdown",
   "id": "33b18e52",
   "metadata": {},
   "source": [
    "# Exercice 5\n",
    "\n",
    "(College Physics - chapter 2 ex. 27)\n",
    "\n",
    "Answers: \n",
    "\n",
    "1. \n",
    "2. point d\n",
    "3. points c, e, g and l\n",
    "4. points a, b and f"
   ]
  },
  {
   "cell_type": "markdown",
   "id": "dc4b6b17",
   "metadata": {},
   "source": [
    "# Exercice 6\n",
    "\n",
    "1. 56.4 [$m/s^{2}$] or 5.76 g's\n",
    "2. −201 [$m/s^{2}$] or 20.6 g's"
   ]
  },
  {
   "cell_type": "markdown",
   "id": "42acff12",
   "metadata": {},
   "source": [
    "# Exercice 7\n",
    "\n",
    "1. 10.8 [$m/s$]\n",
    "2. -"
   ]
  },
  {
   "cell_type": "markdown",
   "id": "46cebdf2",
   "metadata": {},
   "source": [
    "# Exercice 8\n",
    "\n",
    "Here is the graph:\n",
    "\n",
    "<img title=\"a title\" alt=\"Alt text\" src=\"../Figures/Exercices 2/Exercice_8_solution.jpg\" width=\"500\">"
   ]
  },
  {
   "cell_type": "markdown",
   "id": "4d7794ea",
   "metadata": {},
   "source": [
    "# Exercice 9\n",
    "\n",
    "1. $x$=43 m and $v$= 23 m/s\n",
    "2. $x$= 55 m"
   ]
  },
  {
   "cell_type": "markdown",
   "id": "a03977b8",
   "metadata": {},
   "source": [
    "# Exercice 10\n",
    "\n",
    "1. ($t=1.00 s$) $y$ = +10.1 m and $v$ = +5.2 m/s / ($t=4.00 s$)  $y$ = -18.4 m and $v$ = -24.2 m/s \n",
    "2. The velocity on the way up is +11.3 m/s and on the way down is -11.3 m/s\n",
    "3. $y_{max}$=$+11.5 m$\n",
    "4. $a=-g=-9.80 m/s²$"
   ]
  },
  {
   "cell_type": "markdown",
   "id": "378e2067",
   "metadata": {},
   "source": [
    "# Exercice 11\n",
    "\n",
    "1. 20.0 m\n",
    "2. −1.00 m/s\n",
    "3. Sort of... It means the runner turned around after crossing the finish line and is now returning back to the finish line."
   ]
  },
  {
   "cell_type": "markdown",
   "id": "48dae6be",
   "metadata": {},
   "source": [
    "# Exercice 12\n",
    "\n",
    "1. -\n",
    "2. $x_{0}$=0 m, $v_{0}$=0 m/s, $t_0$=0 s, $x$=1.80 cm, $v$=30.0 cm/s\n",
    "3. $t$=0.120 s\n",
    "4. Yes, the answer is reasonable compared to the duration of a single heart pulse."
   ]
  }
 ],
 "metadata": {
  "kernelspec": {
   "display_name": "Python 3 (ipykernel)",
   "language": "python",
   "name": "python3"
  },
  "language_info": {
   "codemirror_mode": {
    "name": "ipython",
    "version": 3
   },
   "file_extension": ".py",
   "mimetype": "text/x-python",
   "name": "python",
   "nbconvert_exporter": "python",
   "pygments_lexer": "ipython3",
   "version": "3.9.7"
  }
 },
 "nbformat": 4,
 "nbformat_minor": 5
}
