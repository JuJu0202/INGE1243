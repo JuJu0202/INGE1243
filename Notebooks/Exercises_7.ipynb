{
 "cells": [
  {
   "cell_type": "markdown",
   "id": "7cd5451d",
   "metadata": {},
   "source": [
    "# Exercise 1\n",
    "\n",
    "Two charged particles held close to each other are released. As they move, their speeds increase. Therefore, their charges have\n",
    "1. the same sign.\n",
    "2. opposite signs.\n",
    "3. Either of these\n",
    "4. Need more information"
   ]
  },
  {
   "cell_type": "markdown",
   "id": "bb52645d",
   "metadata": {},
   "source": [
    "# Exercise 2\n",
    "\n",
    "A pair of charged particles repel each other with a force $F$. If the charge of one particle is doubled and the distance between them is doubled, the force will be:\n",
    "1. $F$\n",
    "2. $2 F$\n",
    "3. $F/2$\n",
    "4. $F/4$"
   ]
  },
  {
   "cell_type": "markdown",
   "id": "c8c31ee7",
   "metadata": {},
   "source": [
    "# Exercise 3\n",
    "\n",
    "1. If you were to expend 10 J of work to push a 1-C charge against an electric field, what would be its change of voltage?\n",
    "2. If 20 J of work must be done against an existing electric field to take a charge of 0.05 C from X to Y, calculate the potential difference $V_{Y} - V_{X}$. \n",
    "3. For the same value of potential difference in (a), how much work must be done for a charge of 0.1 C?"
   ]
  },
  {
   "cell_type": "markdown",
   "id": "1f51dfac",
   "metadata": {},
   "source": [
    "# Exercise 4\n",
    "\n",
    "Two equal and opposite point charges are located 30 cm apart in a vacuum. The magnitude of electric field E at the midpoint O of the line joining the two charges is $2.4 * 10^{6} [N/C]$.\n",
    "\n",
    "1. Indicate the direction of the electric field.\n",
    "2. Draw *qualitatively* the electric field lines associated to the two charges.\n",
    "2. Calculate the magnitude and direction of force experienced by a negative test charge $q = -1.6 * 10^{-6} [C]$ placed at O."
   ]
  },
  {
   "cell_type": "markdown",
   "id": "e08a3aad",
   "metadata": {},
   "source": [
    "# Exercise 5 (EXAMPLE 18.4 of the reference book)\n",
    "\n",
    "Find the magnitude and direction of the total electric field due to the two point charges, red and blue (on the following figure), at the origin (0,0) of the coordinate system (x,y).\n",
    "\n",
    "<img title=\"a title\" alt=\"Alt text\" src=\"../Figures/Exercises 7/vector_exercise.png\" width=\"400\">"
   ]
  },
  {
   "cell_type": "markdown",
   "id": "6c34b130",
   "metadata": {},
   "source": [
    "# Exercise 6\n",
    "\n",
    "A charge $q$ is placed a distance $R$ from the origin, and a charge $2q$ is placed a distance $2R$. There is a charge $Q$ at the origin. If all charges are positive, which charge is at the higher potential?\n",
    "1. $q$\n",
    "2. $2q$\n",
    "3. The two charges have the same potential."
   ]
  },
  {
   "cell_type": "markdown",
   "id": "6e2ca5fd",
   "metadata": {},
   "source": [
    "# Exercise 7\n",
    "\n",
    "Which charge in the last question has the highest electrostatic potential energy?\n",
    "1. $q$\n",
    "2. $2q$\n",
    "3. The two charges have the same potential energy."
   ]
  },
  {
   "cell_type": "markdown",
   "id": "b50eae64",
   "metadata": {},
   "source": [
    "# Exercise 8\n",
    "\n",
    "In 1909, Robert Millikan was the first to find the charge of an electron in his now-famous oil-drop experiment.\n",
    "In that experiment tiny oil drops were sprayed into a uniform electric field between a horizontal pair of oppositely\n",
    "charged plates. The drops were observed with a magnifying eyepiece, and the electric field was adjusted so that the upward force on some negatively charged oil drops was just sufficient to balance the downward force of gravity. That is, when suspended, upward force $qE$ just equaled $mg$. Millikan accurately measured the charges on many oil drops and found the values to be whole-number multiples of $1.6 * 10^{-19} C$, which turns out to be the charge of the electron. For this he won the Nobel Prize.\n",
    "\n",
    "<img title=\"a title\" alt=\"Alt text\" src=\"../Figures/Exercises 7/Millikan.jpg\" width=\"500\">\n",
    "\n",
    "1. If a drop of mass $1.1 * 10^{-14} kg$ remains stationary in an electric field of $1.68 * 10^{5} N/C$, what is the charge of this drop?\n",
    "2. How many extra electrons are on this particular oil drop (given the presently known charge of the electron)?"
   ]
  },
  {
   "cell_type": "markdown",
   "id": "86ea7ae1",
   "metadata": {},
   "source": [
    "# Exercise 9\n",
    "\n",
    "Two positively charged balls are tied together with a string. One ball has a mass of 30 g and a charge of one micro coulomb. The second has a mass of 40 g and a charge of 2 micro coulombs. The distance that separates them is 5 cm. Initially, they are at rest, but when the string is cutted, they move appart. When they are a long way (infinite distance) away from each other, what are their respective velocities $v_1$ and $v_2$ ? \n",
    "\n",
    "Answer : $v_{1}=3.70 \\;m/s$ and $v_{2}=2.78 \\;m/s$"
   ]
  },
  {
   "cell_type": "markdown",
   "id": "d0d33bbf",
   "metadata": {},
   "source": [
    "# Exercise 10\n",
    "\n",
    "The computation of ionization **energy** of the electron in a hydrogen atom was a result that paves the way to quantum mechanics. This **energy** (in Joules) is the energy required to separate the electron from the single proton constituting the hydrogen atom. In this exercise, both the electron and the proton are represented as tiny balls where the electron is orbiting around the proton on a **circular** trajectory (just as the Moon around the Earth). The equation of the uniform circular motion are considered to be valid. Such model is called the **Bohr model** of the hydrogen atom and, although it does not capture (at all...) the essence of quantum mechanics, it can (quite convincely) estimate some key features of this atom, such as the ionization energy. \n",
    "\n",
    "The only input of the exercise are to know that, the electron is orbiting a distance $R$ around the proton with $R=5.29*10^{-11}\\;m$ and that the electron has a charge of $-1.6*10^{-19}\\;C$ (the opposite of the charge of the proton).\n",
    "\n",
    "Here is a picture of the situation :\n",
    "\n",
    "<img title=\"a title\" alt=\"Alt text\" src=\"../Figures/Exercises 7/hydrogen.png\" width=\"300\">\n",
    "\n",
    "1. What is the electric force acting on the electron ? \n",
    "2. Considering the uniform circular motion equations, what is the acceleration of the electron (assuming the velocity of the electron is $v$)? \n",
    "3. Can you associate this acceleration to the force computed in (1) ? Why ?\n",
    "4. With the equation found in (3), can you compute the kinetic energy of the electron ? \n",
    "5. What is the potential energy (in Joules) of the electron ?\n",
    "6. What is the total energy of the electron ? \n",
    "\n",
    "The point you now have to realize is that, to ionize the electron, it requires to \"pay\" the total energy that the electron has. So the answer to question 6 is the ionization energy of the electron in the hydrogen atom. To remove the electron from the atom, $2.18*10^{-18}\\;J$ must be put in. \n",
    "\n",
    "#### Extra comment\n",
    "\n",
    "**One** joule, is the amount of potential energy that **one** coulomb has for a **one** volt difference of potential. Nevertheless, in **one** coulomb, there are plenty of electron charge ! One needs $\\frac{1}{1.6*10^{-19}}$ electrons to constitute one coulomb. At the atomic scale, it is more suitable to consider the potential energy a **single electron** has for a **one** volt difference of potential. This answer is called one **electron-volt** written $1\\;eV$ (simply a different unit system than the Joule that is more appropriate at the atomic scale)\n",
    "\n",
    "$$1\\;eV=1.6*10^{-19}\\;J$$\n",
    "\n",
    "7. Can you express the energy obtained in answer 6 in electron volt ?\n",
    "\n",
    "On the following site, you can find the reference value of the ionization energy : https://www.periodic-table.org/Hydrogen-ionization-energy/\n",
    "\n",
    "Quite close to your own answer right ? \n",
    "\n",
    "8. Take a minut to explain to your neighbour the different **concepts** (from the **begining** of the course) that we are required to understand and compute the ionization energy of the hydrogen atom.\n",
    "\n",
    "This exercise is really important to this course. As mentioned, this quite simple result paved the way to the quantum adventure (that lasts for a bit more than a century now). This adventure is fundamentally changing our perceptions of reality.  In a professional environment, you will face with quite complex topics. Sometimes, this complexity is not worth to tackle but some other times, although it can seem far from your understanding, keep being confident that the list of **concepts** that you need to master in order to capture the essence of the problem is never **that big**. "
   ]
  },
  {
   "cell_type": "code",
   "execution_count": null,
   "id": "21b337d8",
   "metadata": {},
   "outputs": [],
   "source": []
  }
 ],
 "metadata": {
  "kernelspec": {
   "display_name": "Python 3 (ipykernel)",
   "language": "python",
   "name": "python3"
  },
  "language_info": {
   "codemirror_mode": {
    "name": "ipython",
    "version": 3
   },
   "file_extension": ".py",
   "mimetype": "text/x-python",
   "name": "python",
   "nbconvert_exporter": "python",
   "pygments_lexer": "ipython3",
   "version": "3.9.7"
  }
 },
 "nbformat": 4,
 "nbformat_minor": 5
}
