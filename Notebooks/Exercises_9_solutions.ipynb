{
 "cells": [
  {
   "cell_type": "markdown",
   "id": "b442e876",
   "metadata": {},
   "source": [
    "# Journey to the center of the Earth¶\n",
    "\n",
    "1. Considering that the points are antipodals, the point that is complementary to 40°25'0.1'' North, 3°42'12.9'' West is : 40°25'0.1'' South and 176°17'47.1'' East (since 180°00'00.0'' = 176°17'47.1'' + 3°42'12.9''). You can check where these coordinates bring us on one of the many map applications availables on the internet. \n",
    "2. $g=9.81\\;m/s^{2}$\n",
    "3. The acceleration in the middle of the Earth is zero since the force acting on a \"test mass\" that would be put **at rest** in the center of the Earth would be zero. \n",
    "4. This is an average density (the Earth is highly non-homogeneous regarding density). The density has the physical dimension of Mass by Volume. Let us use the symbol $\\rho$ to denote it. \n",
    "$$\\rho=\\frac{M}{\\frac{4\\pi R_{T}^{3}}{3}}=5514.16\\;kg/m^{3}$$\n",
    "where $M$ is the mass of the Earth and $R_T$ its radius.\n",
    "5. On the one hand, the gravitationnal force can be expressed in polar form as:\n",
    "$$\\vec{F}=-G\\frac{(\\rho\\times\\frac{4\\pi}{3}r^{3}(t))\\times m_{c}}{r^{2}(t)}\\textbf{e}_{r}$$\n",
    "where $G$ is the gravitational constant, $r(t)$ being the polar coordinate of the cabin (that varies with time) - **the distance between the center of the Earth and the cabin**, $m_{c}$ is the mass of the cabin and $\\rho$, the density of the Earth.\n",
    "On the other hand, the **same** force equals \"mass times acceleration\" :\n",
    "$$\\vec{F}=m_{c}\\frac{d^{2}r(t)}{dt^{2}}\\textbf{e}_{r}$$\n",
    "Our equation can be obtained by equating these two expression of the force. To ease the notations, one can (not mandatory) use the following relation :\n",
    "$$\\frac{4\\pi}{3}\\rho G=\\frac{4\\pi}{3}\\frac{M}{\\frac{4\\pi}{3}R_{T}^{3}}G=\\frac{g}{R_T}$$\n",
    "where $g$ is the acceleration at the surface of the Earth (can you justify this relation ?).  \n",
    "Eventually, we have :\n",
    "$$\\frac{d^{2}r(t)}{dt^{2}}=-\\frac{g}{R_T}r(t)$$\n",
    "with the following boundary conditions (a differential equation with no boundary conditions is not a well formulated problem):\n",
    "$$r(t=0)=R_T$$\n",
    "\n",
    "$$\\frac{dr(t)}{dt}(t=0)=0$$\n",
    "\n",
    "<div class=\"alert alert-block alert-info\">\n",
    "This second order linear equation has already been encountered two times in the course. In the course related to the spring :\n",
    "$$\\frac{d^{2}x(t)}{dt^{2}}=-\\frac{k}{m}x(t)$$\n",
    "and in the course related to the simple pendulum : \n",
    "$$\\frac{d^{2}\\theta(t)}{dt^{2}}=-\\frac{g}{L}\\theta(t)$$\n",
    "... so we know the solution :\n",
    "$$r(t)=Acos(\\omega t+\\phi)$$\n",
    "What a surprise : a <b>periodical motion</b> !</div>\n",
    "\n",
    "6. Since the $cos$ function can have no physical dimension, $A$ must \"carry the unit\". It has the same dimension as $r(t)$. $A$ is thus expressed in meters. Also, since the argument of a cosine function can have no dimension, $\\omega t$ as well as $\\phi$ must be dimensionless. So $\\phi$ has no dimension and $\\omega$ has the dimension of the inverse of a time, expressed in $[s^{-1}]$.\n",
    "\n",
    "7. We here have to find the expressions of $A$, $\\omega$ and $\\phi$ that gives us a solution verifying the three equations that we derived (principal equation + 2 boundary conditions).\n",
    "    - With $r(t=0)=R_T$, we have:\n",
    "$$r(t=0)=Acos(\\phi)=R_T$$\n",
    "    - With $\\frac{dr(t)}{dt}(t=0)=0$, we have:\n",
    "$$\\frac{dr(t)}{dt}(t=0)=-A\\omega sin(\\phi)=0$$\n",
    "    -With $\\frac{d^{2}r(t)}{dt^{2}}=-\\frac{g}{R_T}r(t)$, we have:\n",
    "$$\\frac{d^{2}r(t)}{dt^{2}}=-A\\omega^{2}cos(\\omega t+\\phi)=-\\frac{g}{R_T}Acos(\\omega t+\\phi)$$\n",
    "\n",
    "The second equation straightforwardly tells us that:\n",
    "$$\\phi=0$$\n",
    "so equation 1 gives us:\n",
    "$$A=R_T$$\n",
    "and eventually, we can identify:\n",
    "$$\\omega^{2}=\\frac{g}{R_T}$$\n",
    "The last equation gives us that $\\omega=0.00124\\;[s^{-1}]$.\n",
    "\n",
    "8. The time period of this periodic motion is $T=\\frac{2\\pi}{\\omega}=5063\\; s$ (1h24min). \n",
    "9. Nevertheless, this time corresponds to a **round trip** so the **one-way** takes half of this time: 42 min !  \n",
    "10. The average velocity of a commertial aircraft being 850 km/h, it would take *on average* 23h30min. Your technology would be disruptive ! (and **free** ! Gravity does the job !).\n",
    "11. With little frictional forces, the motion would correspond to the damped harmonic oscillator. They would end the trip **at** the center of the Earth...\n",
    "12. Yes ... The motion is **independent** of the mass of the cabin."
   ]
  }
 ],
 "metadata": {
  "kernelspec": {
   "display_name": "Python 3 (ipykernel)",
   "language": "python",
   "name": "python3"
  },
  "language_info": {
   "codemirror_mode": {
    "name": "ipython",
    "version": 3
   },
   "file_extension": ".py",
   "mimetype": "text/x-python",
   "name": "python",
   "nbconvert_exporter": "python",
   "pygments_lexer": "ipython3",
   "version": "3.9.7"
  }
 },
 "nbformat": 4,
 "nbformat_minor": 5
}
