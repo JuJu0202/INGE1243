{
 "cells": [
  {
   "cell_type": "markdown",
   "id": "0cc529fc",
   "metadata": {},
   "source": [
    "# Exercise 1\n",
    "\n",
    "1. $5\\;\\textbf{e}_{x}+\\;\\textbf{e}_{y}$\n",
    "2. $\\;\\textbf{e}_{x}+3\\;\\textbf{e}_{y}-2\\;\\textbf{e}_{z}$\n",
    "3. 3\n",
    "4. 3\n",
    "5. 3\n",
    "6. $15\\;\\textbf{e}_{x}-18\\;\\textbf{e}_{y}+9\\;\\textbf{e}_{z}$"
   ]
  },
  {
   "cell_type": "markdown",
   "id": "27205a72",
   "metadata": {},
   "source": [
    "# Exercise 2\n",
    "\n",
    "1. 54.7°\n",
    "2. 35.3°"
   ]
  },
  {
   "cell_type": "markdown",
   "id": "409ddc2d",
   "metadata": {},
   "source": [
    "# Exercise 3\n",
    "\n",
    "1. arccos(-1/3)= 109.47°\n",
    "2. 177.5 pm"
   ]
  },
  {
   "cell_type": "markdown",
   "id": "c296ea75",
   "metadata": {},
   "source": [
    "# Exercises (reference book)\n",
    "\n",
    "Consult : https://collegephysicsanswers.com/openstax-solutions/find-following-path-figure-352-total-distance-traveled-and-b-magnitude-and"
   ]
  },
  {
   "cell_type": "markdown",
   "id": "b4819ebb",
   "metadata": {},
   "source": [
    "# Exercise 4\n",
    "\n",
    "A vector is an object whose components vary according to the same rule as the coordinates themselves. This is absolutely not the case for the aforementioned quantities."
   ]
  },
  {
   "cell_type": "markdown",
   "id": "b02a4d31",
   "metadata": {},
   "source": [
    "# Exercise 5\n",
    "\n",
    "$\\vec{r}(t)=\\vec{r}_{0}+\\vec{v}_{0}t+\\vec{g}\\frac{t^{2}}{2}$"
   ]
  },
  {
   "cell_type": "markdown",
   "id": "71b42fbb",
   "metadata": {},
   "source": [
    "# Exercise 6\n",
    "\n",
    "1. $g$ \n",
    "2. 0\n",
    "3. $-g$\n",
    "4. $|\\vec{v}_{0}|cos(\\theta_{0})$\n",
    "5. $|\\vec{v}_{0}|sin(\\theta_{0})$\n",
    "6. does not change\n",
    "7. $|\\vec{v}_{0}|cos(\\theta_{0})$\n",
    "8. $|\\vec{v}_{0}|sin(\\theta_{0})-gt$\n",
    "9. $\\sqrt(v_{x}^{2}(t)+v_{y}^{2}(t))$\n",
    "10. $x_{0}+|\\vec{v}_{0}|t cos(\\theta_{0})$\n",
    "11. $y_{0}+|\\vec{v}_{0}|t sin(\\theta_{0})-\\frac{1}{2}gt^2$\n",
    "12. $(y-y_{0})=tan(\\theta_{0})\\cdot (x-x_{0}) - \\frac{g}{2v_{0}^{2}cos^{2}(\\theta_{0})}\\cdot (x-x_{0})^{2}$\n",
    "13. $(y-y_{0})=tan(\\theta_{0})\\cdot (x-x_{0}) - \\frac{g}{2v_{0}^{2}cos^{2}(\\theta_{0})}\\cdot (x-x_{0})^{2}$\n",
    "14. $(y-y_{0})=a\\cdot (x-x_{0})+b\\cdot (x-x_{0})^{2}$\n",
    "15. $\\frac{2v_{0}sin(\\theta_{0})}{g}$\n",
    "16. $v_{0}sin(\\theta_{0})-gT^{*}$\n",
    "17. $\\frac{v_{0}sin(\\theta_{0})}{g}$\n",
    "18. $d=\\frac{v_{0}^{2}}{g}sin(2\\theta_{0})$\n",
    "19. 45°"
   ]
  },
  {
   "cell_type": "code",
   "execution_count": null,
   "id": "0bcace8f",
   "metadata": {},
   "outputs": [],
   "source": []
  }
 ],
 "metadata": {
  "kernelspec": {
   "display_name": "Python 3 (ipykernel)",
   "language": "python",
   "name": "python3"
  },
  "language_info": {
   "codemirror_mode": {
    "name": "ipython",
    "version": 3
   },
   "file_extension": ".py",
   "mimetype": "text/x-python",
   "name": "python",
   "nbconvert_exporter": "python",
   "pygments_lexer": "ipython3",
   "version": "3.9.7"
  }
 },
 "nbformat": 4,
 "nbformat_minor": 5
}
