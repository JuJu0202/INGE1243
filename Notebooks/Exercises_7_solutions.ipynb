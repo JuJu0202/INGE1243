{
 "cells": [
  {
   "cell_type": "markdown",
   "id": "cbe017e6",
   "metadata": {},
   "source": [
    "# Exercise 1\n",
    "\n",
    "Answer : 3"
   ]
  },
  {
   "cell_type": "markdown",
   "id": "7008d723",
   "metadata": {},
   "source": [
    "# Exercise 2\n",
    "\n",
    "Answer : 3"
   ]
  },
  {
   "cell_type": "markdown",
   "id": "106aa3e6",
   "metadata": {},
   "source": [
    "# Exercise 3\n",
    "\n",
    "1. $\\Delta V = 10 V$\n",
    "2.\n",
    "3."
   ]
  },
  {
   "cell_type": "markdown",
   "id": "4bfe6ced",
   "metadata": {},
   "source": [
    "# Exercise 4\n",
    "\n",
    "Considering the following picture :\n",
    "\n",
    "<img title=\"a title\" alt=\"Alt text\" src=\"../Figures/Exercises 7/field.png\" width=\"400\">\n",
    "\n",
    "1. If you choose that the charge on the left-side of your drawing is the positive one and the other is negative, then the electric field is pointing along $\\textbf{e}_{x}$.\n",
    "2. See the figure\n",
    "3. $\\vec{F}=(2.4*10^{6})\\times(-1.6*10^{-6})\\;\\textbf{e}_{x}=-3.84\\;\\textbf{e}_{x}\\;(Newtons)$"
   ]
  },
  {
   "cell_type": "markdown",
   "id": "048e16b8",
   "metadata": {},
   "source": [
    "# Exercise 5\n",
    "\n",
    "Answer : $E=1.26*10^{5}\\;N/C$ and $\\theta=116.6°$"
   ]
  },
  {
   "cell_type": "markdown",
   "id": "2987c853",
   "metadata": {},
   "source": [
    "# Exercise 6\n",
    "\n",
    "Answer : 1"
   ]
  },
  {
   "cell_type": "markdown",
   "id": "dca58a32",
   "metadata": {},
   "source": [
    "# Exercise 7\n",
    "\n",
    "Answer : 3"
   ]
  },
  {
   "cell_type": "markdown",
   "id": "0337d65d",
   "metadata": {},
   "source": [
    "# Exercise 8\n",
    "\n",
    "1. $6.42321429*10^{−19}$\n",
    "2. Knowing that the electron charge is $1.6*10^{-19}\\;C$, we have 4.0145 electrons in the oil drop. "
   ]
  },
  {
   "cell_type": "markdown",
   "id": "9cf44610",
   "metadata": {},
   "source": [
    "# Exercise 9\n",
    "\n",
    "$v_{1}=3.70 \\;m/s$ and $v_{2}=2.78 \\;m/s$"
   ]
  },
  {
   "cell_type": "markdown",
   "id": "df0f0d59",
   "metadata": {},
   "source": [
    "# Exercise 10\n",
    "\n",
    "$e$ is our notation for the charge of the electron $1.6*10^{-19}\\;C$. $k$ is the constant appearing in the Coulomb's law $9*10^{9}\\;Nm^{2}/C^{2}$\n",
    "\n",
    "1. $F=\\frac{ke^{2}}{R^{2}}$\n",
    "2. $a=\\frac{v^{2}}{R}$\n",
    "3. $F=ma\\leftrightarrow mv^{2}=\\frac{ke^{2}}{R}$ ...\n",
    "4. so $K.E.=\\frac{mv^{2}}{2}=\\frac{ke^{2}}{2R}$\n",
    "5. $P.E.=-\\frac{ke^{2}}{R}$ (Note that the potential energy is twice as big as the kinetic energy, but negative. This relationship between the kinetic and potential energies is valid not just for electrons orbiting protons, but also in gravitational situations, such as a satellite orbiting the Earth. OMG !)\n",
    "6. $Total\\;energy\\;=P.E.+K.E.=-\\frac{ke^2}{2R }= - (1/2)*(9 x 10^{9})*(1.6 x 10^{-19}) / (5.29 x 10^{-11})=-2.18*10^{-18}\\;J$ \n",
    "7. 13.6 eV\n",
    "8. - "
   ]
  },
  {
   "cell_type": "code",
   "execution_count": null,
   "id": "81a31ec0",
   "metadata": {},
   "outputs": [],
   "source": []
  }
 ],
 "metadata": {
  "kernelspec": {
   "display_name": "Python 3 (ipykernel)",
   "language": "python",
   "name": "python3"
  },
  "language_info": {
   "codemirror_mode": {
    "name": "ipython",
    "version": 3
   },
   "file_extension": ".py",
   "mimetype": "text/x-python",
   "name": "python",
   "nbconvert_exporter": "python",
   "pygments_lexer": "ipython3",
   "version": "3.9.7"
  }
 },
 "nbformat": 4,
 "nbformat_minor": 5
}
