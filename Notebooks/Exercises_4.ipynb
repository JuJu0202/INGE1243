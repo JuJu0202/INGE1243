{
 "cells": [
  {
   "cell_type": "markdown",
   "id": "fb298174",
   "metadata": {},
   "source": [
    "# Exercise 1\n",
    "\n",
    "Any three vectors $\\vec{a}$, $\\vec{b}$, and $\\vec{c}$ may be thought of as defining a solid body having six faces, parallel in pairs- a parallelepiped. \n",
    "\n",
    "1. Show that the volume enclosed by such an object is:\n",
    "\n",
    "$$V=|\\vec{a}\\cdot(\\vec{b}\\times\\vec{c})|$$\n",
    "\n",
    "2. Using this result, compute the volume of the parallelepiped defined by $\\vec{a}=(1,2,3)$, $\\vec{b}=(-1,1,2)$, $\\vec{c}=(2,1,4)$"
   ]
  },
  {
   "cell_type": "markdown",
   "id": "a72d432b",
   "metadata": {},
   "source": [
    "# Exercise 2\n",
    "\n",
    "Use the dot and vector products to compute:\n",
    "\n",
    "1. the total area $A$ of the tetrahedron of edge length $a$\n",
    "2. its volume $V$\n",
    "\n",
    "<img title=\"a title\" alt=\"Alt text\" src=\"../Figures/Exercises 4/tetrahedron.jpg\" width=\"200\">"
   ]
  },
  {
   "cell_type": "markdown",
   "id": "a98def58",
   "metadata": {},
   "source": [
    "# Exercise 3\n",
    "\n",
    "Three professional wrestlers are fighting over a champion’s belt. The following figure shows the horizontal force each wrestler applies to the belt, as viewed from above. The forces have magnitudes $\\vec{F_{1}}$ = 50 N, $\\vec{F_{2}}$ = 120 N, and $\\vec{F_{3}}$ = 250 N. Find the x- and y-components of the net force on the belt, and find its magnitude and direction.\n",
    "\n",
    "<img title=\"a title\" alt=\"Alt text\" src=\"../Figures/Exercises 4/resultant.jpg\" width=\"300\">"
   ]
  },
  {
   "cell_type": "markdown",
   "id": "1d662002",
   "metadata": {},
   "source": [
    "# Exercise 4\n",
    "\n",
    "A 76.0-kg person is being pulled away from a burning building as shown in the figure below. Calculate the tension in the two ropes if the person is momentarily motionless. Include a free-body diagram in your solution.\n",
    "\n",
    "<img title=\"a title\" alt=\"Alt text\" src=\"../Figures/Exercises 4/fire.jpg\" width=\"300\">"
   ]
  },
  {
   "cell_type": "markdown",
   "id": "196faa2c",
   "metadata": {},
   "source": [
    "# Exercise 5\n",
    "\n",
    "The figure depicts a hockey **puck** sliding with constant speed $v_{0}$, in a straight line from point to P to point Q on a frictionless horizontal surface. Forces exerted by the air are negligible. You are looking down on the puck. When the puck reaches point Q, it receives a swift horizontal kick in the direction of the heavy print arrow. Had the puck been at rest at point P, then the kick would have set the puck in horizontal motion with a speed $v_k$ in the direction of the kick.\n",
    "\n",
    "<img title=\"a title\" alt=\"Alt text\" src=\"../Figures/Exercises 4/puck.jpg\" width=\"300\">\n",
    "\n",
    "1. Which of the paths 1-5 below would the puck most closely follow after receiving the kick?\n",
    "\n",
    "<img title=\"a title\" alt=\"Alt text\" src=\"../Figures/Exercises 4/puck_001.jpg\" width=\"500\">\n",
    "\n",
    "2. The speed of the puck just after it receives the kick is:\n",
    "    1. equal to the speed vo it had before it received the kick.\n",
    "    2. equal to the speed $v_k$ resulting from the kick and independent of the speed $v_{0}$.\n",
    "    3. equal to the arithmetic sum of the speeds $v_0$, and $v_k$.\n",
    "    4. smaller than either of the speeds $v_0$ or $v_k$.\n",
    "    5. greater than either of the speeds $v_0$ or $v_k$, but less than the arithmetic sum of these two speeds.\n",
    "    \n",
    "3. Along the frictionless path you have chosen, the speed of the puck after receiving the kick:\n",
    "    1. is constant.\n",
    "    2. continuously increases\n",
    "    3. continuously decreases.\n",
    "    4. increases for a while and decreases thereafter.\n",
    "    5. is constant for a while and decreases thereafter.\n",
    "    \n",
    "4. Along the frictionless path you have chosen, the main force(s) acting on the puck after receiving the kick is (are):\n",
    "    1. a downward force of gravity.\n",
    "    2. a downward force of gravity, and a horizontal force in the direction of motion.\n",
    "    3. a downward force of gravity, an upward force exerted by the surface, and a horizontal force in the direction of motion.\n",
    "    4. a downward force of gravity and an upward force exerted by the surface.\n",
    "    5. none. (No forces act on the puck.)"
   ]
  },
  {
   "cell_type": "markdown",
   "id": "7cec5fcc",
   "metadata": {},
   "source": [
    "# Exercise 6\n",
    "\n",
    "(Skip this exercise if you feel short regarding the timing) Compute the **minimal** horizontal force one need to apply to the center of a disk (whose weight is 200 N and radius is 20 cm)(applied with the red rope attached to the center) to overcome the step whose height is 4 cm. (hint: the line of action of the reaction force at the corner is given by the dashed line)\n",
    "\n",
    "<img title=\"a title\" alt=\"Alt text\" src=\"../Figures/Exercises 4/step.jpg\" width=\"300\">"
   ]
  },
  {
   "cell_type": "markdown",
   "id": "132bb43e",
   "metadata": {},
   "source": [
    "# Exercise 7\n",
    "\n",
    "Four forces are shown in the figure below at particular locations and orientations with respect to a given $xy$-coordinate system. Find the torque (in [Nm]) due to each force about the origin, then use your results to find the net torque about the origin.\n",
    "\n",
    "<img title=\"a title\" alt=\"Alt text\" src=\"../Figures/Exercises 4/torques.jpg\" width=\"400\">"
   ]
  },
  {
   "cell_type": "markdown",
   "id": "0b18eba6",
   "metadata": {},
   "source": [
    "# Exercise 8\n",
    "\n",
    "(Skip this exercise if you feel short regarding the timing) An ice puck of mass $m$ is sliding without friction at velocity $v_{0}$ [cm/s], as shown in the figure below, when it meets a short strip of ice $L$ [cm] wide, where there is a frictional force proportional to velocity $\\vec{f}=-k\\vec{v}$. Find an expression for the velocity $v$ as a function of position $x$ (**!** not as a function of time) and complete the graph shown on the figure. (hint: find the expression of velocity as a function of time, then position as a function of time and eventually link both expressions)\n",
    "\n",
    "<img title=\"a title\" alt=\"Alt text\" src=\"../Figures/Exercises 4/ice_puck.jpg\" width=\"300\">"
   ]
  },
  {
   "cell_type": "markdown",
   "id": "166123fc",
   "metadata": {},
   "source": [
    "# Exercise 9\n",
    "\n",
    "(Skip this exercise if you feel short regarding the timing) Write down the position vector in polar coordinates, then derive the expression of the instantaneous velocity and the instantaneous acceleration. "
   ]
  },
  {
   "cell_type": "markdown",
   "id": "2844d375",
   "metadata": {},
   "source": [
    "# Exercise 10\n",
    "\n",
    "A bicycle wheel is being tested at a repair shop. The angular velocity of the wheel is 4.00 $[rad/s]$ at time $t=0$, and its angular acceleration is constant and equal to -1.20 $[rad/s^{2}]$. A spoke $OP$ on the wheel coincides with the $+x$-axis at time $t=0$.\n",
    "\n",
    "1. What is the wheel's angular velocity at $t=3.00$ s?\n",
    "2. What angle, in degree, does the spoke $OP$ make with the $+x$-axis at this time?"
   ]
  },
  {
   "cell_type": "markdown",
   "id": "1559bca0",
   "metadata": {},
   "source": [
    "# Exercise 11\n",
    "\n",
    "A steel ball is attached to a string and is swung in a circular path in a horizontal plane as illustrated in the figure below.\n",
    "At point P, the string suddenly breaks near the ball. If these events are observed from directly above, which of the paths 1-5 below would the ball most closely follow after the string breaks?\n",
    "\n",
    "<img title=\"a title\" alt=\"Alt text\" src=\"../Figures/Exercises 4/string.jpg\" width=\"300\">"
   ]
  },
  {
   "cell_type": "markdown",
   "id": "9396d078",
   "metadata": {},
   "source": [
    "# Exercise 12\n",
    "\n",
    "Modern roller coasters have vertical loops like the one shown in the figure below. The radius of curvature is smaller at the top than on the sides so that the downward centripetal acceleration at the top will be greater than the acceleration due to gravity, keeping the passengers pressed firmly into their seats (hopefully). \n",
    "\n",
    "What is the speed of the roller coaster at the top of the loop if the radius of curvature there is 15.0 m and the downward acceleration of the car is 1.50 g?\n",
    "\n",
    "<img title=\"a title\" alt=\"Alt text\" src=\"../Figures/Exercises 4/loop.jpg\" width=\"300\">"
   ]
  },
  {
   "cell_type": "markdown",
   "id": "cfd5ae60",
   "metadata": {},
   "source": [
    "# Exercise 13\n",
    "\n",
    "The Moon's nearly **circular** orbit about the earth has a radius of about 384000 km and the Moon appears to move completely around the celestial sphere once in about 27.3 days as observed from the Earth. This is called a sidereal month. It represents the orbital period of the Moon around the Earth. \n",
    "\n",
    "1. Using the **uniform circular motion** equations, determine the acceleration of the Moon towards the Earth. \n",
    "\n",
    "Knowing that the gravitational force is given (in a polar coordinate system with the origin located at the center of the Earth) by:\n",
    "\n",
    "$$\\vec{F}=-G\\frac{m_{Moon}m_{Earth}}{R^{2}}\\; \\textbf{e}_r$$\n",
    "\n",
    "where $G=6.674\\times10^{-11}$ [$m^{3}/(kg\\cdot s²)$], $m_{Moon}=7.348 \\times 10^{22}$ [kg] is the mass of the Moon, $m_{Earth}=5.972\\times10^{24}$ [kg] is the mass of the Earth and $R$ is the distance between both centers.\n",
    "\n",
    "2. Using the expression of the gravitational force, determine the acceleration of the Moon towards the Earth.\n",
    "3. Where could this error come from ? (Discussion) "
   ]
  },
  {
   "cell_type": "markdown",
   "id": "666e967f",
   "metadata": {},
   "source": [
    "# Exercise 14\n",
    "\n",
    "A wooden disk of mass $m$ and radius $R$ has a string of negligible mass is wrapped around it (basically: a Yo-Yo). If the disk is allowed to fall and the string is held so that it unravels without sliding as the disk is falling:\n",
    "\n",
    "1. What will be the wooden disk's **linear** acceleration (of its center of mass)? (hint: the only forces at play are already drawn on the figure (not at scale): the force due to gravity (in green) and the **tension** in the string $T$(in red)).\n",
    "2. Suppose an initial velocity of 0 m/s. What is the distance covered after 2 s if the Yo-Yo is launched at $t=0$?\n",
    "\n",
    "<img title=\"a title\" alt=\"Alt text\" src=\"../Figures/Exercises 4/yoyo.jpg\" width=\"300\">"
   ]
  },
  {
   "cell_type": "code",
   "execution_count": null,
   "id": "dd35f05f",
   "metadata": {},
   "outputs": [],
   "source": []
  }
 ],
 "metadata": {
  "kernelspec": {
   "display_name": "Python 3 (ipykernel)",
   "language": "python",
   "name": "python3"
  },
  "language_info": {
   "codemirror_mode": {
    "name": "ipython",
    "version": 3
   },
   "file_extension": ".py",
   "mimetype": "text/x-python",
   "name": "python",
   "nbconvert_exporter": "python",
   "pygments_lexer": "ipython3",
   "version": "3.9.7"
  }
 },
 "nbformat": 4,
 "nbformat_minor": 5
}
