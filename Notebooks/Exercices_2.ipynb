{
 "cells": [
  {
   "cell_type": "markdown",
   "id": "25457059",
   "metadata": {},
   "source": [
    "Here are two formula that could be useful during this session. They are only valid for a **constant acceleration 1D motion** ! \n",
    "\n",
    "$$v^{2}-v_{0}^{2}=2a(x-x_{0})$$\n",
    "$$x-x_{0}=(\\frac{v_{0}+v}{2})t$$"
   ]
  },
  {
   "cell_type": "markdown",
   "id": "8c5e7de9",
   "metadata": {},
   "source": [
    "# Exercice 1\n",
    "\n",
    "A person initially at point $P$ in the illustration stays there a moment and then moves along the axis to $Q$ and stays there a moment. She then runs quickly to R, stays there a moment, and then strolls slowly back to $P$. Which of the position versus time graphs below correctly represents this motion ? \n",
    "\n",
    "<img title=\"a title\" alt=\"Alt text\" src=\"../Figures/Exercices 2/Exercice_1.jpg\" width=\"800\">"
   ]
  },
  {
   "cell_type": "markdown",
   "id": "c09b6027",
   "metadata": {},
   "source": [
    "# Exercice 2\n",
    "\n",
    "A marathon runner runs at a steady 15 km/h. When the runner is 7.5 km from the finish, a bird begins flying from the runner to the finish at 30 km/h. When the bird reaches the finish line, it turns around and flies back to the runner, and then turns around again, repeating the back-and-forth trips until the runner reaches the finish line. How many kilometers does the bird travel ?\n",
    "\n",
    "<img title=\"a title\" alt=\"Alt text\" src=\"../Figures/Exercices 2/Exercice_2.jpg\" width=\"500\">"
   ]
  },
  {
   "cell_type": "markdown",
   "id": "0bc99199",
   "metadata": {},
   "source": [
    "# Exercice 3\n",
    "\n",
    "If you drop an object in the absence of air resistance, it accelerates downward at 9.8 [$m/s^{2}$]. If instead you throw it downward, its downward acceleration after release is:\n",
    "- less than 9.8 [$m/s^{2}$]\n",
    "- 9.8 [$m/s^{2}$]\n",
    "- more than 9.8 [$m/s^{2}$]"
   ]
  },
  {
   "cell_type": "markdown",
   "id": "d211d606",
   "metadata": {},
   "source": [
    "# Exercice 4\n",
    "\n",
    "The graph shows position as a function of time for two trains running on parallel tracks. \n",
    "\n",
    "<img title=\"a title\" alt=\"Alt text\" src=\"../Figures/Exercices 2/Exercice_4.jpg\" width=\"300\">\n",
    "\n",
    "Which is true:\n",
    "\n",
    "1. At time $t_{B}$, both trains have the same velocity.\n",
    "2. Both trains speed up all the time.\n",
    "3. Both trains have the same velocity at some time before $t_{B}$.\n",
    "4. Somewhere on the graph, both trains have the same acceleration."
   ]
  },
  {
   "cell_type": "markdown",
   "id": "7718fd6a",
   "metadata": {},
   "source": [
    "# Exercice 5\n",
    "\n",
    "(1) Sketch a graph of velocity versus time corresponding to the following graph of position versus time. Then (2), identify the time or times ($t_{a}$, $t_{b}$, $t_{c}$ , etc.) at which the instantaneous velocity is greatest. (3) At which times is it\n",
    "zero? (4) At which times is it negative?\n",
    "\n",
    "<img title=\"a title\" alt=\"Alt text\" src=\"../Figures/Exercices 2/Exercice_5.jpg\" width=\"300\">"
   ]
  },
  {
   "cell_type": "markdown",
   "id": "4fd1a1f8",
   "metadata": {},
   "source": [
    "# Exercice 6\n",
    "\n",
    "Dr. John Paul Stapp was U.S. Air Force officer who studied the effects of extreme deceleration on the\n",
    "human body. On December 10, 1954, Stapp rode a rocket sled, accelerating from rest to a top speed of 1015 km/h in 5.00 s, and was brought jarringly back to rest in only 1.40 s! Calculate his (1) acceleration and (2) deceleration. Express each in multiples of $g$ (9.8 [$m/s^{2}$]) by taking its ratio to the acceleration of gravity."
   ]
  },
  {
   "cell_type": "markdown",
   "id": "521d933b",
   "metadata": {},
   "source": [
    "# Exercice 7\n",
    "\n",
    "An Olympic-class sprinter starts a race with a constant acceleration of 4.50 $[m/s^{2}]$. (a) What is her speed 2.40 s later? (b) Sketch a graph of her position vs. time for this period."
   ]
  },
  {
   "cell_type": "markdown",
   "id": "3c2f43f4",
   "metadata": {},
   "source": [
    "# Exercice 8\n",
    "\n",
    "Considering the following time evolution of the acceleration and taking $x(t=0)=v(t=0)=0$, draw **qualitativelly** the curves of the velocity and position with respect to time. \n",
    "\n",
    "<img title=\"a title\" alt=\"Alt text\" src=\"../Figures/Exercices 2/Exercice_8.jpg\" width=\"500\">"
   ]
  },
  {
   "cell_type": "markdown",
   "id": "0e576453",
   "metadata": {},
   "source": [
    "# Exercice 9 \n",
    "\n",
    "A motorcyclist heading east through a small city accelerates after he passes the signpost marking the city limits. His acceleration is a constant 4.0 [$m/s^{2}$]. At time 0, he is 5.0 m east of the signpost, moving east at 15 [$m/s$].\n",
    "1. Find his position and velocity at time $t=2.0$ s.\n",
    "2. Where is the motorcyclist when his velocity is 25 [$m/s$] ?\n",
    "\n",
    "<img title=\"a title\" alt=\"Alt text\" src=\"../Figures/Exercices 2/Exercice_9.jpg\" width=\"500\">"
   ]
  },
  {
   "cell_type": "markdown",
   "id": "19adea45",
   "metadata": {},
   "source": [
    "# Exercice 10\n",
    "\n",
    "You throw a ball vertically upward from the roof of a tall building. The ball leaves your hand at a point even with the roof railing with an upward speed of 15.0 [$m/s$]; the ball is then in free fall. On its way back down, it just misses the railing (consider it is a pure 1D problem). Find:\n",
    "\n",
    "1. the position and the velocity of the ball 1.00 s and 4.00 s after leaving your hand\n",
    "2. the velocity when the ball is 5.00 m above the railing. \n",
    "3. the maximum height reached and the time at which it is reached.\n",
    "4. the acceleration of the ball when it is at its maximum height. \n"
   ]
  },
  {
   "cell_type": "markdown",
   "id": "842f9369",
   "metadata": {},
   "source": [
    "# Exercice 11\n",
    "\n",
    "At the end of a race, a runner decelerates from a velocity of 9.00 [$m/s$] at a rate of 2.00 [$m/s^{2}$].\n",
    "1. How far does she travel in the next 5.00 s? \n",
    "2. What is her final velocity?\n",
    "3. Evaluate the result. Does it make sense?"
   ]
  },
  {
   "cell_type": "markdown",
   "id": "0dcf06da",
   "metadata": {},
   "source": [
    "# Exercice 12\n",
    "\n",
    "Blood is accelerated from rest to 30.0 cm/s in a distance of 1.80 cm by the left ventricle of the heart. \n",
    "\n",
    "1. Make a sketch of the situation. \n",
    "2. List the knowns in this problem. \n",
    "3. How long does the acceleration take? To solve this part, first identify the unknown, and then discuss how you chose the appropriate equation to solve for it. After choosing the equation, show your steps in solving for the unknown, checking your units. \n",
    "4. Is the answer reasonable when compared with the time for a heartbeat? (this question takes part in a selection process of a profession)"
   ]
  }
 ],
 "metadata": {
  "kernelspec": {
   "display_name": "Python 3 (ipykernel)",
   "language": "python",
   "name": "python3"
  },
  "language_info": {
   "codemirror_mode": {
    "name": "ipython",
    "version": 3
   },
   "file_extension": ".py",
   "mimetype": "text/x-python",
   "name": "python",
   "nbconvert_exporter": "python",
   "pygments_lexer": "ipython3",
   "version": "3.9.7"
  }
 },
 "nbformat": 4,
 "nbformat_minor": 5
}
